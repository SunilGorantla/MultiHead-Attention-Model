{
 "cells": [
  {
   "cell_type": "code",
   "execution_count": 2,
   "metadata": {},
   "outputs": [],
   "source": [
    "# Read input data\n",
    "with open('input.txt', \"r\", encoding = 'utf-8') as f:\n",
    "    text = f.read()"
   ]
  },
  {
   "cell_type": "code",
   "execution_count": 6,
   "metadata": {},
   "outputs": [],
   "source": [
    "chars = sorted(list(set(text)))\n",
    "vocab = len(chars)"
   ]
  },
  {
   "cell_type": "code",
   "execution_count": 7,
   "metadata": {},
   "outputs": [],
   "source": [
    "stoi = {ch:i for i, ch in enumerate(chars)}\n",
    "itos = {i:ch for i, ch in enumerate(chars)}\n",
    "\n",
    "encode = lambda s: [stoi[i] for i in s]\n",
    "decode = lambda l: ''.join([itos[i] for i in l])"
   ]
  },
  {
   "cell_type": "code",
   "execution_count": 8,
   "metadata": {},
   "outputs": [
    {
     "name": "stdout",
     "output_type": "stream",
     "text": [
      "torch.Size([1115394]) torch.int64\n"
     ]
    }
   ],
   "source": [
    "# Encoding tex with torch\n",
    "import torch\n",
    "data = torch.tensor(encode(text), dtype=torch.long)\n",
    "print(data.shape, data.dtype)"
   ]
  },
  {
   "cell_type": "code",
   "execution_count": 9,
   "metadata": {},
   "outputs": [],
   "source": [
    "# Split data into testing and training datasets\n",
    "n = int(0.9*len(data))\n",
    "train_data = data[:n]\n",
    "val_data = data[n:]"
   ]
  },
  {
   "cell_type": "code",
   "execution_count": 11,
   "metadata": {},
   "outputs": [],
   "source": [
    "block_size = 8"
   ]
  },
  {
   "cell_type": "code",
   "execution_count": 19,
   "metadata": {},
   "outputs": [
    {
     "name": "stdout",
     "output_type": "stream",
     "text": [
      "when input is tensor([18]) then target is 47\n",
      "when input is tensor([18, 47]) then target is 56\n",
      "when input is tensor([18, 47, 56]) then target is 57\n",
      "when input is tensor([18, 47, 56, 57]) then target is 58\n",
      "when input is tensor([18, 47, 56, 57, 58]) then target is 1\n",
      "when input is tensor([18, 47, 56, 57, 58,  1]) then target is 15\n",
      "when input is tensor([18, 47, 56, 57, 58,  1, 15]) then target is 47\n",
      "when input is tensor([18, 47, 56, 57, 58,  1, 15, 47]) then target is 58\n"
     ]
    }
   ],
   "source": [
    "# Sample train and target data\n",
    "x = train_data[:block_size]\n",
    "y = train_data[1:block_size+1]\n",
    "\n",
    "for t in range(block_size):\n",
    "    context = x[:t+1]\n",
    "    target = y[t]\n",
    "    print(f'when input is {context} then target is {target}')"
   ]
  },
  {
   "cell_type": "code",
   "execution_count": 110,
   "metadata": {},
   "outputs": [
    {
     "name": "stdout",
     "output_type": "stream",
     "text": [
      "torch.Size([4, 8])\n",
      "Train data sample tensor([59, 56, 52, 57,  1, 58, 53,  1])\n",
      "torch.Size([4, 8])\n",
      "Target data sample tensor([56, 52, 57,  1, 58, 53,  1, 56])\n"
     ]
    }
   ],
   "source": [
    "torch.manual_seed(123)\n",
    "batch_size = 4 # Number of independent sequences to be run parallel\n",
    "block_size = 8 # length of prediction block\n",
    "\n",
    "def get_batch(split):\n",
    "    data = train_data if split == 'train' else val_data\n",
    "    ix = torch.randint(len(data) - block_size, (batch_size,))\n",
    "    x = torch.stack([data[i:i+block_size] for i in ix])\n",
    "    y = torch.stack([data[i+1:i+1+block_size] for i in ix])\n",
    "    return x,y\n",
    "\n",
    "xa, ya = get_batch('train')\n",
    "print(xa.shape)\n",
    "print(f'Train data sample {xa[0]}')\n",
    "print(ya.shape)\n",
    "print(f'Target data sample {ya[0]}')"
   ]
  },
  {
   "cell_type": "code",
   "execution_count": 111,
   "metadata": {},
   "outputs": [
    {
     "name": "stdout",
     "output_type": "stream",
     "text": [
      "torch.Size([4, 8])\n",
      "torch.Size([32, 65])\n",
      "tensor(4.3472, grad_fn=<NllLossBackward0>)\n",
      "\n",
      "MuD&sYMZTlXMP?HZTnJfpsh&omS$ApW3zEYQ&rrvjhGy?AYvB;'ECISU\n",
      "xTA\n",
      "vCNhscX;aiXMHnk,TPI;D?f&Fb&FZblxzqi.abd\n"
     ]
    }
   ],
   "source": [
    "# Bigram model\n",
    "import torch\n",
    "import torch.nn as nn\n",
    "from torch.nn import functional as F\n",
    "\n",
    "class BigramLanguageModel(nn.Module):\n",
    "    def __init__(self, vocab_size):\n",
    "        super().__init__()\n",
    "        # Create an embedding layer --> nn.Embedding(vocab_size, embedding_dim)\n",
    "        # Each embedding represents next character\n",
    "        self.token_embedding_table = nn.Embedding(vocab_size, vocab_size)\n",
    "    \n",
    "    def forward(self, idx, targets=None):\n",
    "        # Input tensor with indices representing words\n",
    "        logits = self.token_embedding_table(idx) # (B (batch_size = 4), T (timestep = 8), C (embedding_dim = 65))\n",
    "\n",
    "        if targets is None:\n",
    "            loss = None\n",
    "        else: \n",
    "            B, T, C = logits.shape\n",
    "            logits = logits.view(B*T,C)\n",
    "            targets = targets.view(B*T)\n",
    "            loss = F.cross_entropy(logits, targets)\n",
    "\n",
    "        return logits, loss\n",
    "    \n",
    "    def generate(self,  idx, max_new_tokens):\n",
    "        for _ in range(max_new_tokens):\n",
    "            # Get Predictions\n",
    "            logits, loss = self(idx)\n",
    "            # Take the last time step (predicted)\n",
    "            logits = logits[:,-1,:] # (B,C)\n",
    "            probs = F.softmax(logits, dim=-1)\n",
    "            idx_next = torch.multinomial(probs, num_samples=1)\n",
    "            idx = torch.cat((idx,idx_next), dim=1)\n",
    "        return idx\n",
    "\n",
    "model = BigramLanguageModel(vocab)\n",
    "out, loss = model(xa,ya)\n",
    "print(xa.shape)\n",
    "print(out.shape)\n",
    "print(loss)\n",
    "idx = torch.zeros((1,1), dtype=torch.long)\n",
    "print(decode(model.generate(idx, max_new_tokens=100)[0].tolist()))"
   ]
  },
  {
   "cell_type": "code",
   "execution_count": 112,
   "metadata": {},
   "outputs": [
    {
     "name": "stdout",
     "output_type": "stream",
     "text": [
      "step 0: train loss 4.3472, val loss 4.3472\n",
      "step 300: train loss 4.5899, val loss 4.5899\n",
      "step 600: train loss 4.2464, val loss 4.2464\n",
      "step 900: train loss 4.1602, val loss 4.1602\n",
      "step 1200: train loss 3.9843, val loss 3.9843\n",
      "step 1500: train loss 3.8834, val loss 3.8834\n",
      "step 1800: train loss 3.6452, val loss 3.6452\n",
      "step 2100: train loss 3.4671, val loss 3.4671\n",
      "step 2400: train loss 3.3445, val loss 3.3445\n",
      "step 2700: train loss 3.4699, val loss 3.4699\n"
     ]
    }
   ],
   "source": [
    "eval_iters = 200\n",
    "max_iters = 3000\n",
    "eval_interval = 300\n",
    "\n",
    "# Create a pytorch optimizer\n",
    "optimizer = torch.optim.AdamW(model.parameters(),lr=1e-3)\n",
    "\n",
    "@torch.no_grad()\n",
    "def estimate_loss():\n",
    "    out = {}\n",
    "    model.eval()\n",
    "    for split in ['train', 'val']:\n",
    "        losses = torch.zeros(eval_iters)\n",
    "        for k in range(eval_iters):\n",
    "            x,y = get_batch(split)\n",
    "            losses[k] = loss.item()\n",
    "        out[split] = losses.mean()\n",
    "    model.train()\n",
    "    return out\n",
    "\n",
    "\n",
    "# for steps in range(1000):\n",
    "#     xb, yb = get_batch('train')\n",
    "#     logits, loss = model(xb,yb)\n",
    "#     optimizer.zero_grad(set_to_none=True)\n",
    "#     loss.backward()\n",
    "#     optimizer.step()\n",
    "\n",
    "#     print(loss.item())\n",
    "\n",
    "\n",
    "for iter in range(max_iters):\n",
    "    if iter%eval_interval == 0:\n",
    "        print(f\"step {iter}: train loss {estimate_loss()['train']:.4f}, val loss {estimate_loss()['val']:.4f}\")\n",
    "    xb,yb = get_batch('train')\n",
    "    logits, loss = model(xb,yb)\n",
    "    optimizer.zero_grad(set_to_none=True)\n",
    "    loss.backward()\n",
    "    optimizer.step()\n",
    "context = torch.zeros((1,1), dtype=torch.long)\n"
   ]
  },
  {
   "cell_type": "code",
   "execution_count": 114,
   "metadata": {},
   "outputs": [
    {
     "name": "stdout",
     "output_type": "stream",
     "text": [
      "\n",
      "BREcy n\n",
      "AAJ$nHB;\n",
      "DitoyLEne w's bkd:HHKpbJVMNNoHQ&w\n"
     ]
    }
   ],
   "source": [
    "print(decode(model.generate(context, max_new_tokens=50)[0].tolist()))"
   ]
  }
 ],
 "metadata": {
  "kernelspec": {
   "display_name": "env_tf",
   "language": "python",
   "name": "python3"
  },
  "language_info": {
   "codemirror_mode": {
    "name": "ipython",
    "version": 3
   },
   "file_extension": ".py",
   "mimetype": "text/x-python",
   "name": "python",
   "nbconvert_exporter": "python",
   "pygments_lexer": "ipython3",
   "version": "3.9.9"
  }
 },
 "nbformat": 4,
 "nbformat_minor": 2
}
